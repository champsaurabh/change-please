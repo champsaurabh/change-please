{
 "cells": [
  {
   "cell_type": "code",
   "execution_count": 2,
   "metadata": {},
   "outputs": [
    {
     "name": "stdout",
     "output_type": "stream",
     "text": [
      "enter the string here: racecar issi racecar\n",
      "the given string is a palimdrome\n"
     ]
    }
   ],
   "source": [
    "strng= str(input(\"enter the string here: \"))\n",
    "def split(strng):\n",
    "    return [char for char in strng]\n",
    "A=split(strng)\n",
    "\n",
    "from collections import Counter \n",
    "m=0\n",
    "n=len(A)\n",
    "g=[]\n",
    "for s in range(n):\n",
    "    g+=A[n-1]\n",
    "    n-=1\n",
    "    \n",
    "if(g==A):\n",
    "    print(\"the given string is a palimdrome\")\n",
    "else:\n",
    "    print(\"the given string is not a palindrome\")\n",
    "    \n"
   ]
  },
  {
   "cell_type": "code",
   "execution_count": null,
   "metadata": {},
   "outputs": [],
   "source": []
  },
  {
   "cell_type": "code",
   "execution_count": null,
   "metadata": {},
   "outputs": [],
   "source": []
  },
  {
   "cell_type": "code",
   "execution_count": null,
   "metadata": {},
   "outputs": [],
   "source": []
  },
  {
   "cell_type": "code",
   "execution_count": null,
   "metadata": {},
   "outputs": [],
   "source": []
  }
 ],
 "metadata": {
  "kernelspec": {
   "display_name": "Python 3",
   "language": "python",
   "name": "python3"
  },
  "language_info": {
   "codemirror_mode": {
    "name": "ipython",
    "version": 3
   },
   "file_extension": ".py",
   "mimetype": "text/x-python",
   "name": "python",
   "nbconvert_exporter": "python",
   "pygments_lexer": "ipython3",
   "version": "3.7.1"
  }
 },
 "nbformat": 4,
 "nbformat_minor": 2
}
