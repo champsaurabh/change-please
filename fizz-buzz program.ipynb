{
 "cells": [
  {
   "cell_type": "code",
   "execution_count": null,
   "metadata": {},
   "outputs": [],
   "source": [
    "for a in range(1,100):\n",
    "    if(a%3==0):\n",
    "        print(\"Fizz\")\n",
    "    elif(a%5==0):\n",
    "        print(\"Buzz\")\n",
    "    elif((a%5==0)and(a%3==0)):\n",
    "        print(\"FizzBuzz\")\n",
    "    else:\n",
    "        print(a)"
   ]
  }
 ],
 "metadata": {
  "kernelspec": {
   "display_name": "Python 3",
   "language": "python",
   "name": "python3"
  },
  "language_info": {
   "codemirror_mode": {
    "name": "ipython",
    "version": 3
   },
   "file_extension": ".py",
   "mimetype": "text/x-python",
   "name": "python",
   "nbconvert_exporter": "python",
   "pygments_lexer": "ipython3",
   "version": "3.7.1"
  }
 },
 "nbformat": 4,
 "nbformat_minor": 2
}
