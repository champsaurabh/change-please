{
 "cells": [
  {
   "cell_type": "code",
   "execution_count": 6,
   "metadata": {},
   "outputs": [
    {
     "name": "stdout",
     "output_type": "stream",
     "text": [
      "enter the number you think is probably happy:383\n",
      "82.0\n",
      "68.0\n",
      "100.0\n",
      "1.0\n",
      "the number  383 is a happy number\n"
     ]
    }
   ],
   "source": [
    "m=x=int(input(\"enter the number you think is probably happy:\"))\n",
    "\n",
    "\n",
    "while((x!=1) & (x<1000)):\n",
    "    sum1=0    \n",
    "    while(x!=0):\n",
    "        if(x%10==0):\n",
    "            y=x/10\n",
    "            s=y%10\n",
    "            sum1=sum1+(s*s)\n",
    "            b=y-s\n",
    "            c=b/10\n",
    "            x=c\n",
    "        else:\n",
    "            a=x%10\n",
    "            sum1=sum1+(a*a)\n",
    "            b=x-a\n",
    "            y=b/10\n",
    "            x=y\n",
    "    x=sum1        \n",
    "    print(sum1)\n",
    "if(x==1):\n",
    "    print(\"the number \",m,\"is a happy number\")\n",
    "else:\n",
    "    print(\"the number \",m,\"is not a happy number\")"
   ]
  },
  {
   "cell_type": "code",
   "execution_count": null,
   "metadata": {},
   "outputs": [],
   "source": []
  },
  {
   "cell_type": "code",
   "execution_count": null,
   "metadata": {},
   "outputs": [],
   "source": []
  },
  {
   "cell_type": "code",
   "execution_count": null,
   "metadata": {},
   "outputs": [],
   "source": []
  }
 ],
 "metadata": {
  "kernelspec": {
   "display_name": "Python 3",
   "language": "python",
   "name": "python3"
  },
  "language_info": {
   "codemirror_mode": {
    "name": "ipython",
    "version": 3
   },
   "file_extension": ".py",
   "mimetype": "text/x-python",
   "name": "python",
   "nbconvert_exporter": "python",
   "pygments_lexer": "ipython3",
   "version": "3.7.1"
  }
 },
 "nbformat": 4,
 "nbformat_minor": 2
}
